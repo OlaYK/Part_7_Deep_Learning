{
 "cells": [
  {
   "cell_type": "code",
   "execution_count": 1,
   "id": "2746082a",
   "metadata": {},
   "outputs": [
    {
     "name": "stdout",
     "output_type": "stream",
     "text": [
      "TensorFlow version: 2.19.0\n"
     ]
    }
   ],
   "source": [
    "import tensorflow as tf\n",
    "print (\"TensorFlow version:\", tf.__version__)\n"
   ]
  },
  {
   "cell_type": "code",
   "execution_count": 1,
   "id": "047a6169",
   "metadata": {},
   "outputs": [],
   "source": [
    "import numpy as np\n",
    "import matplotlib.pyplot as plt\n",
    "import tensorflow as tf"
   ]
  },
  {
   "cell_type": "code",
   "execution_count": 14,
   "id": "6f53f56a",
   "metadata": {},
   "outputs": [],
   "source": [
    "observations = 100000\n",
    "xs = np.random.uniform(low=-10, high=10, size=(observations,1))\n",
    "zs = np.random.uniform(-10,10, (observations,1))\n",
    "\n",
    "generated_inputs = np.column_stack((xs,zs))\n",
    "noise = np.random.uniform(-1,1,(observations,1))\n",
    "\n",
    "generated_targets = 2*xs - 3*zs + 5 + noise\n",
    "\n",
    "np.savez('TF_intro',inputs=generated_inputs, targets=generated_targets)\n",
    "\n"
   ]
  },
  {
   "cell_type": "code",
   "execution_count": 17,
   "id": "ef2dd013",
   "metadata": {},
   "outputs": [
    {
     "name": "stdout",
     "output_type": "stream",
     "text": [
      "Epoch 1/100\n",
      "3125/3125 - 12s - 4ms/step - loss: 0.7985 - mean_absolute_error: 1.1567\n",
      "Epoch 2/100\n",
      "3125/3125 - 8s - 3ms/step - loss: 0.1680 - mean_absolute_error: 0.5008\n",
      "Epoch 3/100\n",
      "3125/3125 - 11s - 3ms/step - loss: 0.1681 - mean_absolute_error: 0.5010\n",
      "Epoch 4/100\n",
      "3125/3125 - 10s - 3ms/step - loss: 0.1682 - mean_absolute_error: 0.5012\n",
      "Epoch 5/100\n",
      "3125/3125 - 8s - 3ms/step - loss: 0.1679 - mean_absolute_error: 0.5006\n",
      "Epoch 6/100\n",
      "3125/3125 - 11s - 3ms/step - loss: 0.1680 - mean_absolute_error: 0.5008\n",
      "Epoch 7/100\n",
      "3125/3125 - 12s - 4ms/step - loss: 0.1680 - mean_absolute_error: 0.5007\n",
      "Epoch 8/100\n",
      "3125/3125 - 8s - 3ms/step - loss: 0.1681 - mean_absolute_error: 0.5009\n",
      "Epoch 9/100\n",
      "3125/3125 - 12s - 4ms/step - loss: 0.1680 - mean_absolute_error: 0.5007\n",
      "Epoch 10/100\n",
      "3125/3125 - 20s - 6ms/step - loss: 0.1680 - mean_absolute_error: 0.5007\n",
      "Epoch 11/100\n",
      "3125/3125 - 12s - 4ms/step - loss: 0.1682 - mean_absolute_error: 0.5011\n",
      "Epoch 12/100\n",
      "3125/3125 - 17s - 5ms/step - loss: 0.1681 - mean_absolute_error: 0.5009\n",
      "Epoch 13/100\n",
      "3125/3125 - 11s - 3ms/step - loss: 0.1682 - mean_absolute_error: 0.5009\n",
      "Epoch 14/100\n",
      "3125/3125 - 10s - 3ms/step - loss: 0.1680 - mean_absolute_error: 0.5006\n",
      "Epoch 15/100\n",
      "3125/3125 - 7s - 2ms/step - loss: 0.1682 - mean_absolute_error: 0.5010\n",
      "Epoch 16/100\n",
      "3125/3125 - 11s - 3ms/step - loss: 0.1682 - mean_absolute_error: 0.5010\n",
      "Epoch 17/100\n",
      "3125/3125 - 9s - 3ms/step - loss: 0.1682 - mean_absolute_error: 0.5014\n",
      "Epoch 18/100\n",
      "3125/3125 - 9s - 3ms/step - loss: 0.1681 - mean_absolute_error: 0.5008\n",
      "Epoch 19/100\n",
      "3125/3125 - 8s - 3ms/step - loss: 0.1680 - mean_absolute_error: 0.5007\n",
      "Epoch 20/100\n",
      "3125/3125 - 10s - 3ms/step - loss: 0.1682 - mean_absolute_error: 0.5011\n",
      "Epoch 21/100\n",
      "3125/3125 - 8s - 2ms/step - loss: 0.1681 - mean_absolute_error: 0.5009\n",
      "Epoch 22/100\n",
      "3125/3125 - 8s - 3ms/step - loss: 0.1680 - mean_absolute_error: 0.5006\n",
      "Epoch 23/100\n",
      "3125/3125 - 7s - 2ms/step - loss: 0.1679 - mean_absolute_error: 0.5007\n",
      "Epoch 24/100\n",
      "3125/3125 - 10s - 3ms/step - loss: 0.1680 - mean_absolute_error: 0.5009\n",
      "Epoch 25/100\n",
      "3125/3125 - 11s - 3ms/step - loss: 0.1681 - mean_absolute_error: 0.5008\n",
      "Epoch 26/100\n",
      "3125/3125 - 18s - 6ms/step - loss: 0.1682 - mean_absolute_error: 0.5011\n",
      "Epoch 27/100\n",
      "3125/3125 - 11s - 4ms/step - loss: 0.1680 - mean_absolute_error: 0.5006\n",
      "Epoch 28/100\n",
      "3125/3125 - 17s - 5ms/step - loss: 0.1680 - mean_absolute_error: 0.5008\n",
      "Epoch 29/100\n",
      "3125/3125 - 8s - 3ms/step - loss: 0.1682 - mean_absolute_error: 0.5010\n",
      "Epoch 30/100\n",
      "3125/3125 - 9s - 3ms/step - loss: 0.1680 - mean_absolute_error: 0.5006\n",
      "Epoch 31/100\n",
      "3125/3125 - 10s - 3ms/step - loss: 0.1680 - mean_absolute_error: 0.5007\n",
      "Epoch 32/100\n",
      "3125/3125 - 9s - 3ms/step - loss: 0.1681 - mean_absolute_error: 0.5008\n",
      "Epoch 33/100\n",
      "3125/3125 - 6s - 2ms/step - loss: 0.1681 - mean_absolute_error: 0.5011\n",
      "Epoch 34/100\n",
      "3125/3125 - 8s - 3ms/step - loss: 0.1680 - mean_absolute_error: 0.5008\n",
      "Epoch 35/100\n",
      "3125/3125 - 7s - 2ms/step - loss: 0.1682 - mean_absolute_error: 0.5011\n",
      "Epoch 36/100\n",
      "3125/3125 - 7s - 2ms/step - loss: 0.1680 - mean_absolute_error: 0.5006\n",
      "Epoch 37/100\n",
      "3125/3125 - 6s - 2ms/step - loss: 0.1680 - mean_absolute_error: 0.5008\n",
      "Epoch 38/100\n",
      "3125/3125 - 7s - 2ms/step - loss: 0.1681 - mean_absolute_error: 0.5008\n",
      "Epoch 39/100\n",
      "3125/3125 - 8s - 3ms/step - loss: 0.1679 - mean_absolute_error: 0.5005\n",
      "Epoch 40/100\n",
      "3125/3125 - 10s - 3ms/step - loss: 0.1681 - mean_absolute_error: 0.5010\n",
      "Epoch 41/100\n",
      "3125/3125 - 6s - 2ms/step - loss: 0.1681 - mean_absolute_error: 0.5011\n",
      "Epoch 42/100\n",
      "3125/3125 - 6s - 2ms/step - loss: 0.1680 - mean_absolute_error: 0.5006\n",
      "Epoch 43/100\n",
      "3125/3125 - 6s - 2ms/step - loss: 0.1681 - mean_absolute_error: 0.5009\n",
      "Epoch 44/100\n",
      "3125/3125 - 7s - 2ms/step - loss: 0.1681 - mean_absolute_error: 0.5009\n",
      "Epoch 45/100\n",
      "3125/3125 - 10s - 3ms/step - loss: 0.1680 - mean_absolute_error: 0.5008\n",
      "Epoch 46/100\n",
      "3125/3125 - 6s - 2ms/step - loss: 0.1681 - mean_absolute_error: 0.5008\n",
      "Epoch 47/100\n",
      "3125/3125 - 7s - 2ms/step - loss: 0.1680 - mean_absolute_error: 0.5007\n",
      "Epoch 48/100\n",
      "3125/3125 - 11s - 3ms/step - loss: 0.1681 - mean_absolute_error: 0.5010\n",
      "Epoch 49/100\n",
      "3125/3125 - 6s - 2ms/step - loss: 0.1680 - mean_absolute_error: 0.5009\n",
      "Epoch 50/100\n",
      "3125/3125 - 7s - 2ms/step - loss: 0.1683 - mean_absolute_error: 0.5012\n",
      "Epoch 51/100\n",
      "3125/3125 - 6s - 2ms/step - loss: 0.1681 - mean_absolute_error: 0.5009\n",
      "Epoch 52/100\n",
      "3125/3125 - 7s - 2ms/step - loss: 0.1681 - mean_absolute_error: 0.5009\n",
      "Epoch 53/100\n",
      "3125/3125 - 6s - 2ms/step - loss: 0.1681 - mean_absolute_error: 0.5008\n",
      "Epoch 54/100\n",
      "3125/3125 - 6s - 2ms/step - loss: 0.1680 - mean_absolute_error: 0.5006\n",
      "Epoch 55/100\n",
      "3125/3125 - 6s - 2ms/step - loss: 0.1681 - mean_absolute_error: 0.5008\n",
      "Epoch 56/100\n",
      "3125/3125 - 8s - 3ms/step - loss: 0.1681 - mean_absolute_error: 0.5011\n",
      "Epoch 57/100\n",
      "3125/3125 - 8s - 3ms/step - loss: 0.1681 - mean_absolute_error: 0.5008\n",
      "Epoch 58/100\n",
      "3125/3125 - 6s - 2ms/step - loss: 0.1681 - mean_absolute_error: 0.5009\n",
      "Epoch 59/100\n",
      "3125/3125 - 7s - 2ms/step - loss: 0.1680 - mean_absolute_error: 0.5008\n",
      "Epoch 60/100\n",
      "3125/3125 - 10s - 3ms/step - loss: 0.1681 - mean_absolute_error: 0.5009\n",
      "Epoch 61/100\n",
      "3125/3125 - 6s - 2ms/step - loss: 0.1679 - mean_absolute_error: 0.5005\n",
      "Epoch 62/100\n",
      "3125/3125 - 6s - 2ms/step - loss: 0.1681 - mean_absolute_error: 0.5008\n",
      "Epoch 63/100\n",
      "3125/3125 - 7s - 2ms/step - loss: 0.1681 - mean_absolute_error: 0.5009\n",
      "Epoch 64/100\n",
      "3125/3125 - 7s - 2ms/step - loss: 0.1681 - mean_absolute_error: 0.5009\n",
      "Epoch 65/100\n",
      "3125/3125 - 11s - 3ms/step - loss: 0.1682 - mean_absolute_error: 0.5010\n",
      "Epoch 66/100\n",
      "3125/3125 - 10s - 3ms/step - loss: 0.1681 - mean_absolute_error: 0.5010\n",
      "Epoch 67/100\n",
      "3125/3125 - 6s - 2ms/step - loss: 0.1679 - mean_absolute_error: 0.5007\n",
      "Epoch 68/100\n",
      "3125/3125 - 6s - 2ms/step - loss: 0.1681 - mean_absolute_error: 0.5009\n",
      "Epoch 69/100\n",
      "3125/3125 - 6s - 2ms/step - loss: 0.1678 - mean_absolute_error: 0.5004\n",
      "Epoch 70/100\n",
      "3125/3125 - 6s - 2ms/step - loss: 0.1681 - mean_absolute_error: 0.5008\n",
      "Epoch 71/100\n",
      "3125/3125 - 7s - 2ms/step - loss: 0.1682 - mean_absolute_error: 0.5011\n",
      "Epoch 72/100\n",
      "3125/3125 - 6s - 2ms/step - loss: 0.1680 - mean_absolute_error: 0.5010\n",
      "Epoch 73/100\n",
      "3125/3125 - 10s - 3ms/step - loss: 0.1682 - mean_absolute_error: 0.5012\n",
      "Epoch 74/100\n",
      "3125/3125 - 12s - 4ms/step - loss: 0.1681 - mean_absolute_error: 0.5008\n",
      "Epoch 75/100\n",
      "3125/3125 - 6s - 2ms/step - loss: 0.1682 - mean_absolute_error: 0.5010\n",
      "Epoch 76/100\n",
      "3125/3125 - 6s - 2ms/step - loss: 0.1679 - mean_absolute_error: 0.5007\n",
      "Epoch 77/100\n",
      "3125/3125 - 7s - 2ms/step - loss: 0.1681 - mean_absolute_error: 0.5007\n",
      "Epoch 78/100\n",
      "3125/3125 - 6s - 2ms/step - loss: 0.1680 - mean_absolute_error: 0.5008\n",
      "Epoch 79/100\n",
      "3125/3125 - 12s - 4ms/step - loss: 0.1681 - mean_absolute_error: 0.5010\n",
      "Epoch 80/100\n",
      "3125/3125 - 10s - 3ms/step - loss: 0.1682 - mean_absolute_error: 0.5010\n",
      "Epoch 81/100\n",
      "3125/3125 - 6s - 2ms/step - loss: 0.1681 - mean_absolute_error: 0.5012\n",
      "Epoch 82/100\n",
      "3125/3125 - 10s - 3ms/step - loss: 0.1681 - mean_absolute_error: 0.5009\n",
      "Epoch 83/100\n",
      "3125/3125 - 8s - 2ms/step - loss: 0.1681 - mean_absolute_error: 0.5008\n",
      "Epoch 84/100\n",
      "3125/3125 - 9s - 3ms/step - loss: 0.1682 - mean_absolute_error: 0.5011\n",
      "Epoch 85/100\n",
      "3125/3125 - 11s - 3ms/step - loss: 0.1681 - mean_absolute_error: 0.5011\n",
      "Epoch 86/100\n",
      "3125/3125 - 8s - 3ms/step - loss: 0.1682 - mean_absolute_error: 0.5011\n",
      "Epoch 87/100\n",
      "3125/3125 - 10s - 3ms/step - loss: 0.1681 - mean_absolute_error: 0.5010\n",
      "Epoch 88/100\n",
      "3125/3125 - 7s - 2ms/step - loss: 0.1681 - mean_absolute_error: 0.5010\n",
      "Epoch 89/100\n",
      "3125/3125 - 9s - 3ms/step - loss: 0.1681 - mean_absolute_error: 0.5010\n",
      "Epoch 90/100\n",
      "3125/3125 - 11s - 4ms/step - loss: 0.1681 - mean_absolute_error: 0.5008\n",
      "Epoch 91/100\n",
      "3125/3125 - 7s - 2ms/step - loss: 0.1680 - mean_absolute_error: 0.5007\n",
      "Epoch 92/100\n",
      "3125/3125 - 7s - 2ms/step - loss: 0.1681 - mean_absolute_error: 0.5010\n",
      "Epoch 93/100\n",
      "3125/3125 - 6s - 2ms/step - loss: 0.1681 - mean_absolute_error: 0.5010\n",
      "Epoch 94/100\n",
      "3125/3125 - 9s - 3ms/step - loss: 0.1681 - mean_absolute_error: 0.5010\n",
      "Epoch 95/100\n",
      "3125/3125 - 8s - 3ms/step - loss: 0.1681 - mean_absolute_error: 0.5010\n",
      "Epoch 96/100\n",
      "3125/3125 - 8s - 3ms/step - loss: 0.1681 - mean_absolute_error: 0.5007\n",
      "Epoch 97/100\n",
      "3125/3125 - 9s - 3ms/step - loss: 0.1681 - mean_absolute_error: 0.5007\n",
      "Epoch 98/100\n",
      "3125/3125 - 9s - 3ms/step - loss: 0.1680 - mean_absolute_error: 0.5007\n",
      "Epoch 99/100\n",
      "3125/3125 - 9s - 3ms/step - loss: 0.1680 - mean_absolute_error: 0.5008\n",
      "Epoch 100/100\n",
      "3125/3125 - 7s - 2ms/step - loss: 0.1681 - mean_absolute_error: 0.5008\n"
     ]
    },
    {
     "data": {
      "text/plain": [
       "<keras.src.callbacks.history.History at 0x25e912f2da0>"
      ]
     },
     "execution_count": 17,
     "metadata": {},
     "output_type": "execute_result"
    }
   ],
   "source": [
    "training_data = np.load('TF_intro.npz')\n",
    "input_size = 2\n",
    "output_size = 1\n",
    "\n",
    "model = tf.keras.Sequential([\n",
    "    tf.keras.layers.Dense(output_size)\n",
    "])\n",
    "model.compile(optimizer='sgd', loss=tf.keras.losses.Huber(delta=1.0), metrics=['mean_absolute_error'])\n",
    "model.fit(training_data['inputs'], training_data['targets'], epochs=100, verbose=2)\n",
    "\n"
   ]
  },
  {
   "cell_type": "code",
   "execution_count": 19,
   "id": "b0e6e62e",
   "metadata": {},
   "outputs": [
    {
     "data": {
      "text/plain": [
       "(array([[ 1.9856204],\n",
       "        [-2.9933767]], dtype=float32),\n",
       " array([4.9973936], dtype=float32))"
      ]
     },
     "execution_count": 19,
     "metadata": {},
     "output_type": "execute_result"
    }
   ],
   "source": [
    "model.layers[0].get_weights()\n",
    "weights, biases = model.layers[0].get_weights()\n",
    "weights= model.layers[0].get_weights()[0]\n",
    "biases = model.layers[0].get_weights()[1]\n",
    "weights, biases"
   ]
  },
  {
   "cell_type": "code",
   "execution_count": 20,
   "id": "e4a0b02c",
   "metadata": {},
   "outputs": [
    {
     "data": {
      "text/plain": [
       "array([[-26.683704 ],\n",
       "       [ 16.68118  ],\n",
       "       [-39.700115 ],\n",
       "       [  5.350359 ],\n",
       "       [ 46.130497 ],\n",
       "       [ 13.260037 ],\n",
       "       [  2.9259348],\n",
       "       [ 16.118519 ],\n",
       "       [ 14.069318 ],\n",
       "       [-18.615044 ]], dtype=float32)"
      ]
     },
     "execution_count": 20,
     "metadata": {},
     "output_type": "execute_result"
    }
   ],
   "source": [
    "model.predict_on_batch(training_data['inputs'][:10])"
   ]
  },
  {
   "cell_type": "code",
   "execution_count": 21,
   "id": "528ce335",
   "metadata": {},
   "outputs": [
    {
     "data": {
      "text/plain": [
       "<function matplotlib.pyplot.show(close=None, block=None)>"
      ]
     },
     "execution_count": 21,
     "metadata": {},
     "output_type": "execute_result"
    },
    {
     "data": {
      "image/png": "[encoded data removed]",
      "text/plain": [
       "<Figure size 640x480 with 1 Axes>"
      ]
     },
     "metadata": {},
     "output_type": "display_data"
    }
   ],
   "source": [
    "plt.plot(np.squeeze(model.predict_on_batch(training_data['inputs'])), np.squeeze(training_data['targets']))\n",
    "plt.xlabel('outputs')\n",
    "plt.ylabel\n",
    "plt.show"
   ]
  },
  {
   "cell_type": "code",
   "execution_count": null,
   "id": "08919312",
   "metadata": {},
   "outputs": [],
   "source": []
  }
 ],
 "metadata": {
  "kernelspec": {
   "display_name": "tf_env",
   "language": "python",
   "name": "python3"
  },
  "language_info": {
   "codemirror_mode": {
    "name": "ipython",
    "version": 3
   },
   "file_extension": ".py",
   "mimetype": "text/x-python",
   "name": "python",
   "nbconvert_exporter": "python",
   "pygments_lexer": "ipython3",
   "version": "3.10.18"
  }
 },
 "nbformat": 4,
 "nbformat_minor": 5
}
