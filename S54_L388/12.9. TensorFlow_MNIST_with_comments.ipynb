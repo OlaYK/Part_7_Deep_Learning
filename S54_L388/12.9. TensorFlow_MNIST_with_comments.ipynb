{
 "cells": [
  {
   "cell_type": "markdown",
   "metadata": {},
   "source": [
    "# Deep Neural Network for MNIST Classification\n",
    "\n",
    "We'll apply all the knowledge from the lectures in this section to write a deep neural network. The problem we've chosen is referred to as the \"Hello World\" for machine learning because for most students it is their first example. The dataset is called MNIST and refers to handwritten digit recognition. You can find more about it on Yann LeCun's website (Director of AI Research, Facebook). He is one of the pioneers of what we've been talking about and of more complex approaches that are widely used today, such as covolutional networks. The dataset provides 28x28 images of handwritten digits (1 per image) and the goal is to write an algorithm that detects which digit is written. Since there are only 10 digits, this is a classification problem with 10 classes. In order to exemplify what we've talked about in this section, we will build a network with 2 hidden layers between inputs and outputs."
   ]
  },
  {
   "cell_type": "markdown",
   "metadata": {},
   "source": [
    "## Import the relevant packages"
   ]
  },
  {
   "cell_type": "code",
   "execution_count": 18,
   "metadata": {
    "collapsed": false
   },
   "outputs": [],
   "source": [
    "import numpy as np\n",
    "import tensorflow as tf\n",
    "from tensorflow.keras.datasets import mnist\n",
    "(x_train, y_train), (x_test, y_test) = mnist.load_data()\n",
    "\n",
    "# TensorFLow includes a data provider for MNIST that we'll use.\n",
    "# This function automatically downloads the MNIST dataset to the chosen directory. \n",
    "# The dataset is already split into training, validation, and test subsets. \n",
    "# Furthermore, it preprocess it into a particularly simple and useful format.\n",
    "# Every 28x28 image is flattened into a vector of length 28x28=784, where every value\n",
    "# corresponds to the intensity of the color of the corresponding pixel.\n",
    "# The samples are grayscale (but standardized from 0 to 1), so a value close to 0 is almost white and a value close to\n",
    "# 1 is almost purely black. This representation (flattening the image row by row into\n",
    "# a vector) is slightly naive but as you'll see it works surprisingly well.\n",
    "# Since this is a classification problem, our targets are categorical.\n",
    "# Recall from the lecture on that topic that one way to deal with that is to use one-hot encoding.\n",
    "# With it, the target for each individual sample is a vector of length 10\n",
    "# which has nine 0s and a single 1 at the position which corresponds to the correct answer.\n",
    "# For instance, if the true answer is \"1\", the target will be [0,0,0,1,0,0,0,0,0,0] (counting from 0).\n",
    "# Have in mind that the very first time you execute this command it might take a little while to run\n",
    "# because it has to download the whole dataset. Following commands only extract it so they're faster.\n"
   ]
  },
  {
   "cell_type": "markdown",
   "metadata": {},
   "source": [
    "## Outline the model\n",
    "\n",
    "The whole code is in one cell, so you can simply rerun this cell (instead of the whole notebook) and train a new model.\n",
    "The tf.reset_default_graph() function takes care of clearing the old parameters. From there on, a completely new training starts."
   ]
  },
  {
   "cell_type": "code",
   "execution_count": 19,
   "metadata": {
    "collapsed": false
   },
   "outputs": [
    {
     "name": "stdout",
     "output_type": "stream",
     "text": [
      "ERROR:tensorflow:An interactive session is already active. This can cause out-of-memory errors or some other unexpected errors (due to the unpredictable timing of garbage collection) in some cases. You must explicitly call `InteractiveSession.close()` to release resources held by the other session(s). Please use `tf.Session()` if you intend to productionize.\n",
      "Epoch 1. Mean loss: 0.436. Validation loss: 0.160. Validation accuracy: 95.64%\n",
      "Epoch 2. Mean loss: 0.184. Validation loss: 0.126. Validation accuracy: 96.58%\n",
      "Epoch 3. Mean loss: 0.139. Validation loss: 0.113. Validation accuracy: 97.06%\n",
      "Epoch 4. Mean loss: 0.113. Validation loss: 0.104. Validation accuracy: 97.28%\n",
      "Epoch 5. Mean loss: 0.094. Validation loss: 0.099. Validation accuracy: 97.40%\n",
      "Epoch 6. Mean loss: 0.080. Validation loss: 0.097. Validation accuracy: 97.48%\n",
      "Epoch 7. Mean loss: 0.069. Validation loss: 0.095. Validation accuracy: 97.50%\n",
      "Epoch 8. Mean loss: 0.060. Validation loss: 0.094. Validation accuracy: 97.56%\n",
      "Epoch 9. Mean loss: 0.052. Validation loss: 0.094. Validation accuracy: 97.62%\n",
      "End of training.\n"
     ]
    }
   ],
   "source": [
    "input_size = 784\n",
    "output_size = 10\n",
    "# Use same hidden layer size for both hidden layers. Not a necessity.\n",
    "hidden_layer_size = 50\n",
    "\n",
    "# Reset any variables left in memory from previous runs.\n",
    "tf.keras.backend.clear_session()\n",
    "\n",
    "# Use TensorFlow 1.x compatibility mode for placeholders and sessions\n",
    "import tensorflow as tf\n",
    "tf.compat.v1.disable_eager_execution()\n",
    "\n",
    "# As in the previous example - declare placeholders where the data will be fed into.\n",
    "inputs = tf.compat.v1.placeholder(tf.float32, [None, input_size])\n",
    "targets = tf.compat.v1.placeholder(tf.float32, [None, output_size])\n",
    "\n",
    "# Weights and biases for the first linear combination between the inputs and the first hidden layer.\n",
    "# Use get_variable in order to make use of the default TensorFlow initializer which is Xavier.\n",
    "weights_1 = tf.compat.v1.get_variable(\"weights_1\", [input_size, hidden_layer_size])\n",
    "biases_1 = tf.compat.v1.get_variable(\"biases_1\", [hidden_layer_size])\n",
    "\n",
    "# Operation between the inputs and the first hidden layer.\n",
    "# We've chosen ReLu as our activation function. You can try playing with different non-linearities.\n",
    "outputs_1 = tf.nn.relu(tf.matmul(inputs, weights_1) + biases_1)\n",
    "\n",
    "# Weights and biases for the second linear combination.\n",
    "# This is between the first and second hidden layers.\n",
    "weights_2 = tf.compat.v1.get_variable(\"weights_2\", [hidden_layer_size, hidden_layer_size])\n",
    "biases_2 = tf.compat.v1.get_variable(\"biases_2\", [hidden_layer_size])\n",
    "\n",
    "# Operation between the first and the second hidden layers. Again, we use ReLu.\n",
    "outputs_2 = tf.nn.relu(tf.matmul(outputs_1, weights_2) + biases_2)\n",
    "\n",
    "# Weights and biases for the final linear combination.\n",
    "# That's between the second hidden layer and the output layer.\n",
    "weights_3 = tf.compat.v1.get_variable(\"weights_3\", [hidden_layer_size, output_size])\n",
    "biases_3 = tf.compat.v1.get_variable(\"biases_3\", [output_size])\n",
    "\n",
    "# Operation between the second hidden layer and the final output.\n",
    "# Notice we have not used an activation function because we'll use the trick to include it directly in \n",
    "# the loss function. This works for softmax and sigmoid with cross entropy.\n",
    "outputs = tf.matmul(outputs_2, weights_3) + biases_3\n",
    "\n",
    "# Calculate the loss function for every output/target pair.\n",
    "# The function used is the same as applying softmax to the last layer and then calculating cross entropy\n",
    "# with the function we've seen in the lectures. This function, however, combines them in a clever way, \n",
    "# which makes it both faster and more numerically stable (when dealing with very small numbers).\n",
    "# Logits here means: unscaled probabilities (so, the outputs, before they are scaled by the softmax)\n",
    "# Naturally, the labels are the targets.\n",
    "loss = tf.nn.softmax_cross_entropy_with_logits(logits=outputs, labels=targets)\n",
    "\n",
    "# Get the average loss\n",
    "mean_loss = tf.reduce_mean(loss)\n",
    "\n",
    "# Define the optimization step. Using adaptive optimizers such as Adam in TensorFlow\n",
    "# is as simple as that.\n",
    "optimize = tf.compat.v1.train.AdamOptimizer(learning_rate=0.001).minimize(mean_loss)\n",
    "\n",
    "# Get a 0 or 1 for every input in the batch indicating whether it output the correct answer out of the 10.\n",
    "out_equals_target = tf.equal(tf.argmax(outputs, 1), tf.argmax(targets, 1))\n",
    "\n",
    "# Get the average accuracy of the outputs.\n",
    "accuracy = tf.reduce_mean(tf.cast(out_equals_target, tf.float32))\n",
    "\n",
    "# Declare the session variable.\n",
    "sess = tf.compat.v1.InteractiveSession()\n",
    "\n",
    "# Initialize the variables. Default initializer is Xavier.\n",
    "initializer = tf.compat.v1.global_variables_initializer()\n",
    "sess.run(initializer)\n",
    "\n",
    "# Batching\n",
    "batch_size = 100\n",
    "\n",
    "import numpy as np\n",
    "\n",
    "# Flatten images and normalize\n",
    "x_train_flat = x_train.reshape(x_train.shape[0], -1).astype(np.float32) / 255.0\n",
    "x_test_flat = x_test.reshape(x_test.shape[0], -1).astype(np.float32) / 255.0\n",
    "\n",
    "# One-hot encode labels\n",
    "def one_hot(labels, num_classes=10):\n",
    "    return np.eye(num_classes)[labels]\n",
    "\n",
    "y_train_oh = one_hot(y_train)\n",
    "y_test_oh = one_hot(y_test)\n",
    "\n",
    "# Split validation set from training set\n",
    "validation_size = 5000\n",
    "x_validation_flat = x_train_flat[-validation_size:]\n",
    "y_validation_oh = y_train_oh[-validation_size:]\n",
    "x_train_flat = x_train_flat[:-validation_size]\n",
    "y_train_oh = y_train_oh[:-validation_size]\n",
    "\n",
    "# Training parameters\n",
    "epochs = 10\n",
    "batches_number = x_train_flat.shape[0] // batch_size\n",
    "prev_validation_loss = float('inf')\n",
    "\n",
    "for epoch_counter in range(epochs):\n",
    "    curr_epoch_loss = 0.\n",
    "    for batch_counter in range(batches_number):\n",
    "        batch_start = batch_counter * batch_size\n",
    "        batch_end = batch_start + batch_size\n",
    "        input_batch = x_train_flat[batch_start:batch_end]\n",
    "        target_batch = y_train_oh[batch_start:batch_end]\n",
    "\n",
    "        # Run the optimization step and get the mean loss for this batch.\n",
    "        _, batch_loss = sess.run([optimize, mean_loss],\n",
    "            feed_dict={inputs: input_batch, targets: target_batch})\n",
    "\n",
    "        # Increment the sum of batch losses.\n",
    "        curr_epoch_loss += batch_loss\n",
    "\n",
    "    # Average batch loss for the epoch\n",
    "    curr_epoch_loss /= batches_number\n",
    "\n",
    "    # Validation\n",
    "    input_batch = x_validation_flat\n",
    "    target_batch = y_validation_oh\n",
    "    validation_loss, validation_accuracy = sess.run([mean_loss, accuracy],\n",
    "        feed_dict={inputs: input_batch, targets: target_batch})\n",
    "\n",
    "    print('Epoch '+str(epoch_counter+1)+\n",
    "          '. Mean loss: '+'{0:.3f}'.format(curr_epoch_loss)+\n",
    "          '. Validation loss: '+'{0:.3f}'.format(validation_loss)+\n",
    "          '. Validation accuracy: '+'{0:.2f}'.format(validation_accuracy * 100.)+'%')\n",
    "\n",
    "    # Early stopping\n",
    "    if validation_loss > prev_validation_loss:\n",
    "        break\n",
    "    prev_validation_loss = validation_loss\n",
    "\n",
    "print('End of training.')"
   ]
  },
  {
   "cell_type": "markdown",
   "metadata": {},
   "source": [
    "## Test the model\n",
    "\n",
    "As we discussed in the lectures, after training on the training and validation sets, we test the final prediction power of our model by running it on the test dataset that the algorithm has not seen before.\n",
    "\n",
    "It is very important to realize that fiddling with the hyperparameters overfits the validation dataset. The test is the absolute final instance. You should not test before you are completely done with adjusting your model."
   ]
  },
  {
   "cell_type": "code",
   "execution_count": 21,
   "metadata": {
    "collapsed": false
   },
   "outputs": [
    {
     "name": "stdout",
     "output_type": "stream",
     "text": [
      "Test accuracy: 97.27%\n"
     ]
    }
   ],
   "source": [
    "# Use the preprocessed test set\n",
    "test_accuracy = sess.run([accuracy], \n",
    "    feed_dict={inputs: x_test_flat, targets: y_test_oh})\n",
    "\n",
    "# Test accuracy is a list with 1 value, so we want to extract the value from it, using x[0]\n",
    "# Uncomment the print to see how it looks before the manipulation\n",
    "# print(test_accuracy)\n",
    "test_accuracy_percent = test_accuracy[0] * 100.\n",
    "\n",
    "# Print the test accuracy formatted in percentages\n",
    "print('Test accuracy: '+'{0:.2f}'.format(test_accuracy_percent)+'%')"
   ]
  },
  {
   "cell_type": "markdown",
   "metadata": {},
   "source": [
    "Using the initial model and hyperparameters given in this notebook, the final test accuracy should be roughly between 97% and 98%. Each time the code is rerunned, we get a different accuracy as the batches are shuffled, the weights are initialized in a different way, etc.\n",
    "\n",
    "Finally, we have intentionally reached a suboptimal solution, so you can have space to build on it."
   ]
  }
 ],
 "metadata": {
  "kernelspec": {
   "display_name": "tf_env",
   "language": "python",
   "name": "python3"
  },
  "language_info": {
   "codemirror_mode": {
    "name": "ipython",
    "version": 3
   },
   "file_extension": ".py",
   "mimetype": "text/x-python",
   "name": "python",
   "nbconvert_exporter": "python",
   "pygments_lexer": "ipython3",
   "version": "3.10.18"
  }
 },
 "nbformat": 4,
 "nbformat_minor": 2
}
