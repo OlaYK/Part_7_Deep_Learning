{
 "cells": [
  {
   "cell_type": "code",
   "execution_count": 1,
   "id": "aeba2e46",
   "metadata": {},
   "outputs": [],
   "source": [
    "#import necessary libraries for MNIST\n",
    "import sys\n",
    "import numpy as np\n",
    "import tensorflow as tf\n",
    "from tensorflow.keras import layers, models, optimizers\n",
    "import pandas as pd\n",
    "import seaborn as sns\n",
    "import matplotlib.pyplot as plt\n",
    "import tensorflow_datasets as tfds\n",
    "sns.set()\n"
   ]
  },
  {
   "cell_type": "code",
   "execution_count": 2,
   "id": "5a3cabaa",
   "metadata": {},
   "outputs": [],
   "source": [
    "mnist_dataset, mnist_info = tfds.load(name = 'mnist', with_info = True, as_supervised = True)"
   ]
  },
  {
   "cell_type": "code",
   "execution_count": 3,
   "id": "3741b759",
   "metadata": {},
   "outputs": [],
   "source": [
    "mnist_train, mnist_test = mnist_dataset['train'], mnist_dataset['test']\n",
    "\n",
    "num_validation_samples = 0.01 * mnist_info.splits['train'].num_examples\n",
    "num_validation_samples = tf.cast(num_validation_samples, tf.int64)\n",
    "\n",
    "num_test_samples = mnist_info.splits['test'].num_examples\n",
    "num_test_samples = tf.cast(num_test_samples, tf.int64)\n",
    "\n",
    "def scale(image, label):\n",
    "    image = tf.cast(image, tf.float32)\n",
    "    image /= 255.0\n",
    "    return image, label\n",
    "\n",
    "scaled_train_and_validation = mnist_train.map(scale)\n",
    "\n",
    "test_data = mnist_test.map(scale)\n",
    "\n",
    "BUFFER_SIZE = 10000\n",
    "shuffled_train_and_validation = scaled_train_and_validation.shuffle(BUFFER_SIZE)\n",
    "\n",
    "validation_data = shuffled_train_and_validation.take(num_validation_samples)\n",
    "train_data = shuffled_train_and_validation.skip(num_validation_samples)\n",
    "\n",
    "BATCH_SIZE = 100\n",
    "train_data = train_data.batch(BATCH_SIZE)\n",
    "validation_data = validation_data.batch(num_validation_samples)\n",
    "test_data = test_data.batch(num_test_samples)\n",
    "\n",
    "validation_inputs, validation_targets = next(iter(validation_data))"
   ]
  },
  {
   "cell_type": "markdown",
   "id": "c302fc80",
   "metadata": {},
   "source": [
    "MODEL"
   ]
  },
  {
   "cell_type": "code",
   "execution_count": 4,
   "id": "be3417db",
   "metadata": {},
   "outputs": [
    {
     "name": "stderr",
     "output_type": "stream",
     "text": [
      "c:\\Users\\USER\\anaconda3\\envs\\tf_env\\lib\\site-packages\\keras\\src\\layers\\reshaping\\flatten.py:37: UserWarning: Do not pass an `input_shape`/`input_dim` argument to a layer. When using Sequential models, prefer using an `Input(shape)` object as the first layer in the model instead.\n",
      "  super().__init__(**kwargs)\n"
     ]
    }
   ],
   "source": [
    "input_size = 784\n",
    "output_size = 10\n",
    "hidden_layer_size = 200\n",
    "\n",
    "model = tf.keras.Sequential([\n",
    "    layers.Flatten(input_shape=(28, 28, 1)),\n",
    "    layers.Dense(hidden_layer_size, activation='relu'),\n",
    "    layers.Dense(hidden_layer_size, activation='relu'),\n",
    "    layers.Dense(hidden_layer_size, activation='relu'),\n",
    "    layers.Dense(hidden_layer_size, activation='relu'),\n",
    "    layers.Dense(hidden_layer_size, activation='relu'),\n",
    "    layers.Dense(output_size, activation='softmax')\n",
    "])\n"
   ]
  },
  {
   "cell_type": "markdown",
   "id": "d8ea5072",
   "metadata": {},
   "source": [
    "**OBJECTIVE FUNCTION**\n",
    "\n",
    "Choosing the optimizer and the loss function"
   ]
  },
  {
   "cell_type": "code",
   "execution_count": 5,
   "id": "6efd2559",
   "metadata": {},
   "outputs": [],
   "source": [
    "model.compile(optimizer='adam',\n",
    "              loss='sparse_categorical_crossentropy',\n",
    "              metrics=['accuracy'])"
   ]
  },
  {
   "cell_type": "markdown",
   "id": "f89fb1c5",
   "metadata": {},
   "source": [
    "**TRAINING THE MODEL**\n",
    "\n"
   ]
  },
  {
   "cell_type": "code",
   "execution_count": 6,
   "id": "188a48b4",
   "metadata": {},
   "outputs": [
    {
     "name": "stdout",
     "output_type": "stream",
     "text": [
      "Epoch 1/5\n",
      "594/594 - 14s - 23ms/step - accuracy: 0.9235 - loss: 0.2518 - val_accuracy: 0.9700 - val_loss: 0.1075\n",
      "Epoch 2/5\n",
      "594/594 - 8s - 13ms/step - accuracy: 0.9695 - loss: 0.0998 - val_accuracy: 0.9750 - val_loss: 0.0937\n",
      "Epoch 3/5\n",
      "594/594 - 7s - 12ms/step - accuracy: 0.9769 - loss: 0.0733 - val_accuracy: 0.9850 - val_loss: 0.0542\n",
      "Epoch 4/5\n",
      "594/594 - 8s - 13ms/step - accuracy: 0.9808 - loss: 0.0603 - val_accuracy: 0.9767 - val_loss: 0.0721\n",
      "Epoch 5/5\n",
      "594/594 - 7s - 12ms/step - accuracy: 0.9861 - loss: 0.0442 - val_accuracy: 0.9917 - val_loss: 0.0288\n"
     ]
    },
    {
     "data": {
      "text/plain": [
       "<keras.src.callbacks.history.History at 0x1dae4b339a0>"
      ]
     },
     "execution_count": 6,
     "metadata": {},
     "output_type": "execute_result"
    }
   ],
   "source": [
    "num_epochs = 5\n",
    "model.fit(train_data, epochs=num_epochs, validation_data=(validation_inputs, validation_targets), verbose=2)    \n"
   ]
  },
  {
   "cell_type": "markdown",
   "id": "dc140deb",
   "metadata": {},
   "source": [
    "**TEST THE MODEL**"
   ]
  },
  {
   "cell_type": "code",
   "execution_count": 7,
   "id": "f43ff7d3",
   "metadata": {},
   "outputs": [
    {
     "name": "stdout",
     "output_type": "stream",
     "text": [
      "\u001b[1m1/1\u001b[0m \u001b[32m━━━━━━━━━━━━━━━━━━━━\u001b[0m\u001b[37m\u001b[0m \u001b[1m1s\u001b[0m 852ms/step - accuracy: 0.9722 - loss: 0.1004\n",
      "\u001b[1m1/1\u001b[0m \u001b[32m━━━━━━━━━━━━━━━━━━━━\u001b[0m\u001b[37m\u001b[0m \u001b[1m1s\u001b[0m 554ms/step - accuracy: 0.9722 - loss: 0.1004\n",
      "Test loss: 0.10, Test Accuracy: 97.22%\n"
     ]
    }
   ],
   "source": [
    "model.evaluate(test_data)\n",
    "test_loss, test_accuracy = model.evaluate(test_data)\n",
    "print('Test loss: {0:.2f}, Test Accuracy: {1:.2f}%'. format (test_loss, test_accuracy*100.))\n",
    "\n"
   ]
  },
  {
   "cell_type": "code",
   "execution_count": null,
   "id": "d70a75e0",
   "metadata": {},
   "outputs": [],
   "source": []
  },
  {
   "cell_type": "code",
   "execution_count": null,
   "id": "cc7fe012",
   "metadata": {},
   "outputs": [],
   "source": []
  },
  {
   "cell_type": "code",
   "execution_count": null,
   "id": "932c0e99",
   "metadata": {},
   "outputs": [],
   "source": []
  },
  {
   "cell_type": "code",
   "execution_count": null,
   "id": "c06a85fb",
   "metadata": {},
   "outputs": [],
   "source": []
  }
 ],
 "metadata": {
  "kernelspec": {
   "display_name": "tf_env",
   "language": "python",
   "name": "python3"
  },
  "language_info": {
   "codemirror_mode": {
    "name": "ipython",
    "version": 3
   },
   "file_extension": ".py",
   "mimetype": "text/x-python",
   "name": "python",
   "nbconvert_exporter": "python",
   "pygments_lexer": "ipython3",
   "version": "3.10.18"
  }
 },
 "nbformat": 4,
 "nbformat_minor": 5
}
