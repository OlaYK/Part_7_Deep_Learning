{
 "cells": [
  {
   "cell_type": "code",
   "execution_count": 63,
   "id": "a3a8baa2",
   "metadata": {},
   "outputs": [],
   "source": [
    "import numpy as np\n",
    "from sklearn import preprocessing\n",
    "\n",
    "raw_csv_data = np.loadtxt('Audiobooks_data.csv', delimiter=',')\n",
    "\n",
    "unscaled_inputs_all = raw_csv_data[:, 1:-1]\n",
    "targets_all = raw_csv_data[:, -1]\n",
    "\n"
   ]
  },
  {
   "cell_type": "code",
   "execution_count": 64,
   "id": "0f8a5938",
   "metadata": {},
   "outputs": [],
   "source": [
    "#Balance the dataset\n",
    "positive_class_count = int(np.sum(targets_all))\n",
    "zero_targets_counter = 0\n",
    "indices_to_remove = []\n",
    "\n",
    "for i in range (targets_all.shape[0]):\n",
    "    if targets_all[i] == 0:\n",
    "        zero_targets_counter += 1\n",
    "        if zero_targets_counter > positive_class_count:\n",
    "            indices_to_remove.append(i)\n",
    "\n",
    "unscaled_inputs_equal_priors = np.delete(unscaled_inputs_all, indices_to_remove, axis=0)\n",
    "targets_equal_priors = np.delete(targets_all, indices_to_remove, axis=0)"
   ]
  },
  {
   "cell_type": "code",
   "execution_count": 65,
   "id": "2e9e2e97",
   "metadata": {},
   "outputs": [],
   "source": [
    "#Standardize the inputs\n",
    "scaled_inputs = preprocessing.scale(unscaled_inputs_equal_priors)\n",
    "\n",
    "#Shuffle the data\n",
    "shuffled_indices = np.arange(scaled_inputs.shape[0])\n",
    "np.random.shuffle(shuffled_indices)\n",
    "\n",
    "shuffled_inputs = scaled_inputs[shuffled_indices]\n",
    "shuffled_targets = targets_equal_priors[shuffled_indices]\n"
   ]
  },
  {
   "cell_type": "code",
   "execution_count": 66,
   "id": "46606e0b",
   "metadata": {},
   "outputs": [
    {
     "name": "stdout",
     "output_type": "stream",
     "text": [
      "1786.0 3579 0.4990220732048058\n",
      "223.0 447 0.4988814317673378\n",
      "228.0 448 0.5089285714285714\n"
     ]
    }
   ],
   "source": [
    "#Split the dataset into train, validation, and test sets\n",
    "sample_count = shuffled_inputs.shape[0]\n",
    "train_samples_count = int(0.8 * sample_count)\n",
    "validation_samples_count = int(0.1 * sample_count)\n",
    "test_samples_count = sample_count - train_samples_count - validation_samples_count\n",
    "\n",
    "train_inputs = shuffled_inputs[:train_samples_count]\n",
    "train_targets = shuffled_targets[:train_samples_count]\n",
    "\n",
    "validation_inputs = shuffled_inputs[train_samples_count:train_samples_count + validation_samples_count]\n",
    "validation_targets = shuffled_targets[train_samples_count:train_samples_count + validation_samples_count]\n",
    "\n",
    "test_inputs = shuffled_inputs[train_samples_count + validation_samples_count:]\n",
    "test_targets = shuffled_targets[train_samples_count + validation_samples_count:]\n",
    "\n",
    "print(np.sum(train_targets), train_samples_count, np.sum(train_targets) / train_samples_count)\n",
    "print (np.sum(validation_targets), validation_samples_count, np.sum(validation_targets) / validation_samples_count )\n",
    "print(np.sum(test_targets), test_samples_count, np.sum(test_targets) / test_samples_count)"
   ]
  },
  {
   "cell_type": "code",
   "execution_count": 67,
   "id": "73d986bf",
   "metadata": {},
   "outputs": [],
   "source": [
    "np.savez('audiobooks_data_train', inputs=train_inputs, targets=train_targets)\n",
    "np.savez('audiobooks_data_validation', inputs=validation_inputs, targets=validation_targets)\n",
    "np.savez('audiobooks_data_test', inputs=test_inputs, targets=test_targets)\n"
   ]
  },
  {
   "cell_type": "code",
   "execution_count": 68,
   "id": "afa16d4e",
   "metadata": {},
   "outputs": [],
   "source": [
    "import numpy as np\n",
    "import tensorflow as tf\n"
   ]
  },
  {
   "cell_type": "code",
   "execution_count": 69,
   "id": "f2521bba",
   "metadata": {},
   "outputs": [],
   "source": [
    "npz = np.load('audiobooks_data_train.npz')\n",
    "train_inputs = npz['inputs'].astype(float)\n",
    "train_targets = npz['targets'].astype(int)\n",
    "\n",
    "npz = np.load('audiobooks_data_validation.npz')\n",
    "validation_inputs = npz['inputs'].astype(float)\n",
    "validation_targets = npz['targets'].astype(int)\n",
    "\n",
    "npz = np.load('audiobooks_data_test.npz')\n",
    "test_inputs = npz['inputs'].astype(float)\n",
    "test_targets = npz['targets'].astype(int)\n"
   ]
  },
  {
   "cell_type": "code",
   "execution_count": 70,
   "id": "f130656f",
   "metadata": {},
   "outputs": [
    {
     "name": "stdout",
     "output_type": "stream",
     "text": [
      "Epoch 1/100\n",
      "36/36 - 2s - 66ms/step - accuracy: 0.6077 - loss: 0.6434 - val_accuracy: 0.7181 - val_loss: 0.5296\n",
      "Epoch 2/100\n",
      "36/36 - 0s - 11ms/step - accuracy: 0.7619 - loss: 0.4794 - val_accuracy: 0.7830 - val_loss: 0.4473\n",
      "Epoch 3/100\n",
      "36/36 - 1s - 16ms/step - accuracy: 0.7877 - loss: 0.4228 - val_accuracy: 0.7763 - val_loss: 0.4205\n",
      "Epoch 4/100\n",
      "36/36 - 0s - 7ms/step - accuracy: 0.7972 - loss: 0.3983 - val_accuracy: 0.7427 - val_loss: 0.4039\n",
      "Epoch 5/100\n",
      "36/36 - 0s - 6ms/step - accuracy: 0.7958 - loss: 0.3823 - val_accuracy: 0.7808 - val_loss: 0.3878\n",
      "Epoch 6/100\n",
      "36/36 - 0s - 10ms/step - accuracy: 0.7980 - loss: 0.3699 - val_accuracy: 0.7763 - val_loss: 0.3886\n",
      "Epoch 7/100\n",
      "36/36 - 0s - 10ms/step - accuracy: 0.8022 - loss: 0.3645 - val_accuracy: 0.7942 - val_loss: 0.3778\n",
      "Epoch 8/100\n",
      "36/36 - 0s - 9ms/step - accuracy: 0.8058 - loss: 0.3594 - val_accuracy: 0.7897 - val_loss: 0.3710\n",
      "Epoch 9/100\n",
      "36/36 - 0s - 8ms/step - accuracy: 0.8058 - loss: 0.3503 - val_accuracy: 0.7875 - val_loss: 0.3705\n",
      "Epoch 10/100\n",
      "36/36 - 0s - 7ms/step - accuracy: 0.8083 - loss: 0.3484 - val_accuracy: 0.7875 - val_loss: 0.3670\n",
      "Epoch 11/100\n",
      "36/36 - 0s - 8ms/step - accuracy: 0.8114 - loss: 0.3453 - val_accuracy: 0.7919 - val_loss: 0.3620\n",
      "Epoch 12/100\n",
      "36/36 - 0s - 8ms/step - accuracy: 0.8086 - loss: 0.3417 - val_accuracy: 0.7964 - val_loss: 0.3607\n",
      "Epoch 13/100\n",
      "36/36 - 0s - 12ms/step - accuracy: 0.8114 - loss: 0.3369 - val_accuracy: 0.8054 - val_loss: 0.3575\n",
      "Epoch 14/100\n",
      "36/36 - 0s - 10ms/step - accuracy: 0.8159 - loss: 0.3370 - val_accuracy: 0.7942 - val_loss: 0.3566\n",
      "Epoch 15/100\n",
      "36/36 - 1s - 16ms/step - accuracy: 0.8178 - loss: 0.3339 - val_accuracy: 0.7964 - val_loss: 0.3564\n",
      "Epoch 16/100\n",
      "36/36 - 0s - 10ms/step - accuracy: 0.8206 - loss: 0.3328 - val_accuracy: 0.8076 - val_loss: 0.3531\n",
      "Epoch 17/100\n",
      "36/36 - 0s - 7ms/step - accuracy: 0.8173 - loss: 0.3318 - val_accuracy: 0.8121 - val_loss: 0.3538\n",
      "Epoch 18/100\n",
      "36/36 - 0s - 9ms/step - accuracy: 0.8150 - loss: 0.3307 - val_accuracy: 0.8031 - val_loss: 0.3526\n",
      "Epoch 19/100\n",
      "36/36 - 0s - 9ms/step - accuracy: 0.8092 - loss: 0.3308 - val_accuracy: 0.7919 - val_loss: 0.3587\n",
      "Epoch 20/100\n",
      "36/36 - 0s - 9ms/step - accuracy: 0.8215 - loss: 0.3255 - val_accuracy: 0.8121 - val_loss: 0.3486\n",
      "Epoch 21/100\n",
      "36/36 - 0s - 9ms/step - accuracy: 0.8206 - loss: 0.3262 - val_accuracy: 0.7987 - val_loss: 0.3448\n",
      "Epoch 22/100\n",
      "36/36 - 0s - 7ms/step - accuracy: 0.8270 - loss: 0.3201 - val_accuracy: 0.8233 - val_loss: 0.3440\n",
      "Epoch 23/100\n",
      "36/36 - 0s - 11ms/step - accuracy: 0.8237 - loss: 0.3243 - val_accuracy: 0.8121 - val_loss: 0.3389\n",
      "Epoch 24/100\n",
      "36/36 - 0s - 7ms/step - accuracy: 0.8248 - loss: 0.3213 - val_accuracy: 0.8255 - val_loss: 0.3424\n",
      "Epoch 25/100\n",
      "36/36 - 0s - 9ms/step - accuracy: 0.8215 - loss: 0.3228 - val_accuracy: 0.8143 - val_loss: 0.3414\n",
      "Epoch 26/100\n",
      "36/36 - 0s - 7ms/step - accuracy: 0.8201 - loss: 0.3207 - val_accuracy: 0.8009 - val_loss: 0.3424\n"
     ]
    },
    {
     "data": {
      "text/plain": [
       "<keras.src.callbacks.history.History at 0x248d55c2020>"
      ]
     },
     "execution_count": 70,
     "metadata": {},
     "output_type": "execute_result"
    }
   ],
   "source": [
    "input_size = 10\n",
    "output_size = 2\n",
    "hidden_layer_size = 50\n",
    "model = tf.keras.Sequential([\n",
    "    tf.keras.layers.Dense(hidden_layer_size, activation='relu'),\n",
    "    tf.keras.layers.Dense(hidden_layer_size, activation='relu'),\n",
    "    tf.keras.layers.Dense(output_size, activation='softmax')\n",
    "])\n",
    "\n",
    "early_stopping = tf.keras.callbacks.EarlyStopping(patience=3)\n",
    "model.compile(optimizer='adam',\n",
    "              loss='sparse_categorical_crossentropy',\n",
    "                metrics=['accuracy'])\n",
    "model.fit(train_inputs, train_targets, epochs=100, batch_size=100, callbacks= [early_stopping],\n",
    "            validation_data=(validation_inputs, validation_targets),\n",
    "            verbose=2)\n"
   ]
  },
  {
   "cell_type": "code",
   "execution_count": 72,
   "id": "2c5c7d26",
   "metadata": {},
   "outputs": [
    {
     "name": "stdout",
     "output_type": "stream",
     "text": [
      "\u001b[1m14/14\u001b[0m \u001b[32m━━━━━━━━━━━━━━━━━━━━\u001b[0m\u001b[37m\u001b[0m \u001b[1m0s\u001b[0m 10ms/step - accuracy: 0.8250 - loss: 0.3403\n",
      "Test loss: 0.35, Test accuracy: 81.92%\n"
     ]
    }
   ],
   "source": [
    "test_loss, test_accuracy = model.evaluate(test_inputs, test_targets)\n",
    "print('Test loss: {0:.2f}, Test accuracy: {1:.2f}%'.format(test_loss, test_accuracy*100.))\n"
   ]
  },
  {
   "cell_type": "code",
   "execution_count": null,
   "id": "74b4b90f",
   "metadata": {},
   "outputs": [],
   "source": []
  },
  {
   "cell_type": "code",
   "execution_count": null,
   "id": "012ca6d0",
   "metadata": {},
   "outputs": [],
   "source": []
  },
  {
   "cell_type": "code",
   "execution_count": null,
   "id": "9f7c4e15",
   "metadata": {},
   "outputs": [],
   "source": []
  },
  {
   "cell_type": "code",
   "execution_count": null,
   "id": "f7aa8117",
   "metadata": {},
   "outputs": [],
   "source": []
  },
  {
   "cell_type": "code",
   "execution_count": null,
   "id": "6ec94ddb",
   "metadata": {},
   "outputs": [],
   "source": []
  },
  {
   "cell_type": "code",
   "execution_count": null,
   "id": "2127f51f",
   "metadata": {},
   "outputs": [],
   "source": []
  }
 ],
 "metadata": {
  "kernelspec": {
   "display_name": "tf_env",
   "language": "python",
   "name": "python3"
  },
  "language_info": {
   "codemirror_mode": {
    "name": "ipython",
    "version": 3
   },
   "file_extension": ".py",
   "mimetype": "text/x-python",
   "name": "python",
   "nbconvert_exporter": "python",
   "pygments_lexer": "ipython3",
   "version": "3.10.18"
  }
 },
 "nbformat": 4,
 "nbformat_minor": 5
}
