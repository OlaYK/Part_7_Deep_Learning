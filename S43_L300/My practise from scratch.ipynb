{
 "cells": [
  {
   "cell_type": "code",
   "execution_count": 46,
   "id": "8df0fd02",
   "metadata": {},
   "outputs": [],
   "source": [
    "import numpy as np\n",
    "import matplotlib.pyplot as plt\n",
    "from mpl_toolkits.mplot3d import Axes3D\n"
   ]
  },
  {
   "cell_type": "code",
   "execution_count": 47,
   "id": "507f22a5",
   "metadata": {},
   "outputs": [
    {
     "name": "stdout",
     "output_type": "stream",
     "text": [
      "(2352, 2)\n"
     ]
    }
   ],
   "source": [
    "#Generate some random data for observations\n",
    "observations = 2352\n",
    "xs = np.random.uniform(low=-10, high=10, size=(observations, 1))\n",
    "zs = np.random.uniform(low=-10, high=10, size=(observations, 1))\n",
    "#Generate some noise\n",
    "noise = np.random.uniform(low=-1, high=1, size=(observations, 1))\n",
    "inputs = np.column_stack((xs, zs))\n",
    "print (inputs.shape)"
   ]
  },
  {
   "cell_type": "code",
   "execution_count": 48,
   "id": "e42d11a9",
   "metadata": {},
   "outputs": [
    {
     "name": "stdout",
     "output_type": "stream",
     "text": [
      "(2352, 1)\n"
     ]
    }
   ],
   "source": [
    "#Generate the targets\n",
    "targets = 154.45*xs - 73.39*zs - 15.36 + noise\n",
    "#Check the shape of the targets just in case. It should be n x m, where m is the number of output variables\n",
    "print (targets.shape)"
   ]
  },
  {
   "cell_type": "code",
   "execution_count": null,
   "id": "46468abf",
   "metadata": {},
   "outputs": [],
   "source": [
    "#Plot the training data\n",
    "targets = targets.reshape(observations,)\n",
    "fig = plt.figure()\n",
    "ax = fig.add_subplot(111, projection='3d')\n",
    "ax.scatter(xs, zs, targets)\n",
    "ax.set_xlabel('Xs')\n",
    "ax.set_ylabel('Zs')\n",
    "ax.set_zlabel('Targets')\n",
    "ax.azim = 45  # You can change this value to view the plot from different angles\n",
    "plt.show()\n",
    "targets = targets.reshape(observations, 1)  # Ensure targets is a 2D array\n"
   ]
  },
  {
   "cell_type": "code",
   "execution_count": null,
   "id": "87f34f77",
   "metadata": {},
   "outputs": [
    {
     "name": "stdout",
     "output_type": "stream",
     "text": [
      "[[-0.09183587]\n",
      " [-0.06790159]]\n",
      "[-0.02514868]\n"
     ]
    }
   ],
   "source": [
    "#initialize weights and bias\n",
    "init_range = 0.1\n",
    "weights = np.random.uniform(low=-init_range, high=init_range, size=(2, 1))\n",
    "bias = np.random.uniform(low=-init_range, high=init_range, size=1)\n",
    "# Set some small learning rate (denoted eta)\n",
    "learning_rate = 0.01\n",
    "print(weights)\n",
    "print(bias)"
   ]
  },
  {
   "cell_type": "code",
   "execution_count": null,
   "id": "9e905258",
   "metadata": {},
   "outputs": [],
   "source": [
    "#Train the model\n",
    "for i in range(100):\n",
    "    # Calculate outputs\n",
    "    outputs = np.dot(inputs, weights) + bias\n",
    "\n",
    "    # Calculate deltas\n",
    "    deltas = outputs - targets\n",
    "   \n",
    " #Calculate L2-norm Loss\n",
    "def calc_loss(outputs, targets):\n",
    "    deltas = outputs - targets\n",
    "    loss = np.sum(deltas ** 2) / 2 / observations\n",
    "    print (loss)\n",
    "deltas_scaled = deltas / observations\n",
    "weights = weights - learning_rate * np.dot(inputs.T,deltas_scaled)\n",
    "biases = bias - learning_rate * np.sum(deltas_scaled)\n",
    "\n",
    "    \n",
    "    \n",
    "if i % 100 == 0:\n",
    "    print(f\"Iteration {i}, Loss: {loss:.4f}\")"
   ]
  },
  {
   "cell_type": "code",
   "execution_count": null,
   "id": "8aa17002",
   "metadata": {},
   "outputs": [
    {
     "name": "stdout",
     "output_type": "stream",
     "text": [
      "[[ 52.10241352]\n",
      " [-23.11520212]] [-0.02514868]\n"
     ]
    }
   ],
   "source": [
    "print (weights, bias)"
   ]
  },
  {
   "cell_type": "code",
   "execution_count": null,
   "id": "a3a47da6",
   "metadata": {},
   "outputs": [
    {
     "data": {
      "image/png": "[encoded data removed]",
      "text/plain": [
       "<Figure size 640x480 with 1 Axes>"
      ]
     },
     "metadata": {},
     "output_type": "display_data"
    }
   ],
   "source": [
    "plt.plot(outputs,targets)\n",
    "plt.xlabel('outputs')\n",
    "plt.ylabel('targets')\n",
    "plt.show()"
   ]
  }
 ],
 "metadata": {
  "kernelspec": {
   "display_name": "base",
   "language": "python",
   "name": "python3"
  },
  "language_info": {
   "codemirror_mode": {
    "name": "ipython",
    "version": 3
   },
   "file_extension": ".py",
   "mimetype": "text/x-python",
   "name": "python",
   "nbconvert_exporter": "python",
   "pygments_lexer": "ipython3",
   "version": "3.13.5"
  }
 },
 "nbformat": 4,
 "nbformat_minor": 5
}
